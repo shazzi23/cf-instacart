{
 "cells": [
  {
   "cell_type": "markdown",
   "id": "5c11bd70-e204-4872-a251-0ceec16c59fc",
   "metadata": {},
   "source": [
    "# Table of Contents\n",
    "1. Import libraries\n",
    "2. Data Types"
   ]
  },
  {
   "cell_type": "markdown",
   "id": "3fe844ed-250a-43ba-88ae-bf13291a51de",
   "metadata": {},
   "source": [
    "# 01. Importing libraries"
   ]
  },
  {
   "cell_type": "code",
   "execution_count": 4,
   "id": "ec2d64ed-cfb0-4045-be06-120adefd25e8",
   "metadata": {},
   "outputs": [],
   "source": [
    "# Import libraries\n",
    "import pandas as pd\n",
    "import numpy as np\n",
    "import os"
   ]
  },
  {
   "cell_type": "markdown",
   "id": "7ed0ad50-e18c-40de-94e0-455f021433f0",
   "metadata": {},
   "source": [
    "# 02. Data Types"
   ]
  },
  {
   "cell_type": "code",
   "execution_count": 64,
   "id": "0068c87c-7267-4d43-bb70-bd56ab785497",
   "metadata": {},
   "outputs": [],
   "source": [
    "x=20"
   ]
  },
  {
   "cell_type": "code",
   "execution_count": 66,
   "id": "5381c820-4f67-441a-84f7-a7c0a0eeb32b",
   "metadata": {},
   "outputs": [],
   "source": [
    "y=5"
   ]
  },
  {
   "cell_type": "code",
   "execution_count": 72,
   "id": "2e7deb8f-7d47-468b-b441-778c6f569167",
   "metadata": {},
   "outputs": [
    {
     "data": {
      "text/plain": [
       "100"
      ]
     },
     "execution_count": 72,
     "metadata": {},
     "output_type": "execute_result"
    }
   ],
   "source": [
    "4*(x+y)"
   ]
  },
  {
   "cell_type": "code",
   "execution_count": 74,
   "id": "e3ffcb58-0fe6-4dd5-aaa7-2bce9428e895",
   "metadata": {},
   "outputs": [
    {
     "data": {
      "text/plain": [
       "100"
      ]
     },
     "execution_count": 74,
     "metadata": {},
     "output_type": "execute_result"
    }
   ],
   "source": [
    "2*(2*(x-y)+x)"
   ]
  },
  {
   "cell_type": "code",
   "execution_count": 76,
   "id": "6ffbac35-4a8c-4592-b387-2209c8b04221",
   "metadata": {},
   "outputs": [
    {
     "data": {
      "text/plain": [
       "100"
      ]
     },
     "execution_count": 76,
     "metadata": {},
     "output_type": "execute_result"
    }
   ],
   "source": [
    "x+x+x+x+x"
   ]
  },
  {
   "cell_type": "code",
   "execution_count": 78,
   "id": "d38a7eec-ad4d-4fe7-a024-5a6346541dfa",
   "metadata": {},
   "outputs": [],
   "source": [
    "z=1.56"
   ]
  },
  {
   "cell_type": "code",
   "execution_count": 80,
   "id": "20157566-be52-4a9c-af06-4d5c9730b17f",
   "metadata": {},
   "outputs": [],
   "source": [
    "p=9.85"
   ]
  },
  {
   "cell_type": "code",
   "execution_count": 82,
   "id": "a93f07aa-bd1c-46ae-9c57-ca8de712cecb",
   "metadata": {},
   "outputs": [
    {
     "data": {
      "text/plain": [
       "6.314102564102564"
      ]
     },
     "execution_count": 82,
     "metadata": {},
     "output_type": "execute_result"
    }
   ],
   "source": [
    "p/z"
   ]
  },
  {
   "cell_type": "code",
   "execution_count": 86,
   "id": "dfef8441-0792-4c0f-ad29-3a4d33775541",
   "metadata": {},
   "outputs": [
    {
     "data": {
      "text/plain": [
       "'football'"
      ]
     },
     "execution_count": 86,
     "metadata": {},
     "output_type": "execute_result"
    }
   ],
   "source": [
    "'foot'+'ball'"
   ]
  },
  {
   "cell_type": "code",
   "execution_count": 98,
   "id": "972abb10-0f23-44a6-86bb-ab15ba9901cb",
   "metadata": {},
   "outputs": [
    {
     "data": {
      "text/plain": [
       "'Hi Clinton! I hope you are having a good day!'"
      ]
     },
     "execution_count": 98,
     "metadata": {},
     "output_type": "execute_result"
    }
   ],
   "source": [
    "'Hi '+'Clinton!'+' I '+'hope '+'you are ' + 'having ' + 'a ' + 'good ' + 'day!'"
   ]
  },
  {
   "cell_type": "code",
   "execution_count": 102,
   "id": "cde2e6c1-de27-4c95-bacb-33c05e83fd47",
   "metadata": {},
   "outputs": [
    {
     "data": {
      "text/plain": [
       "'potatopotatopotatopotatopotatopotatopotatopotatopotatopotatopotatopotatopotatopotatopotatopotatopotatopotatopotatopotatopotatopotatopotatopotatopotatopotatopotatopotatopotatopotatopotatopotatopotatopotatopotatopotatopotatopotatopotatopotatopotatopotatopotatopotatopotatopotatopotatopotatopotatopotatopotatopotatopotatopotatopotatopotatopotatopotatopotatopotatopotatopotatopotatopotatopotatopotatopotatopotatopotatopotatopotatopotatopotatopotatopotatopotatopotatopotatopotatopotatopotatopotatopotatopotatopotatopotatopotatopotatopotatopotatopotatopotatopotatopotatopotatopotatopotatopotatopotatopotato'"
      ]
     },
     "execution_count": 102,
     "metadata": {},
     "output_type": "execute_result"
    }
   ],
   "source": [
    "'potato'*100"
   ]
  },
  {
   "cell_type": "code",
   "execution_count": null,
   "id": "2b7ade79-f7e5-4d27-ba91-f0393534a7e6",
   "metadata": {},
   "outputs": [],
   "source": []
  }
 ],
 "metadata": {
  "kernelspec": {
   "display_name": "Python [conda env:base] *",
   "language": "python",
   "name": "conda-base-py"
  },
  "language_info": {
   "codemirror_mode": {
    "name": "ipython",
    "version": 3
   },
   "file_extension": ".py",
   "mimetype": "text/x-python",
   "name": "python",
   "nbconvert_exporter": "python",
   "pygments_lexer": "ipython3",
   "version": "3.12.7"
  }
 },
 "nbformat": 4,
 "nbformat_minor": 5
}
