{
 "cells": [
  {
   "cell_type": "markdown",
   "id": "1b68e340-df1f-4887-8d62-6fe6f93c6f21",
   "metadata": {},
   "source": [
    "# Table of Contents\n",
    "1. Import libraries\n",
    "2. Import data\n",
    "3. Exercise"
   ]
  },
  {
   "cell_type": "markdown",
   "id": "53caa381-6d81-4edc-829a-987ce9e79fb8",
   "metadata": {},
   "source": [
    "# 1.0 Import Libraries"
   ]
  },
  {
   "cell_type": "code",
   "execution_count": 3,
   "id": "941de571-2914-4e41-9253-9789216bcc58",
   "metadata": {},
   "outputs": [],
   "source": [
    "import pandas as pd\n",
    "import numpy as np\n",
    "import os\n",
    "import matplotlib.pyplot as plt\n",
    "import seaborn as sns\n",
    "import scipy"
   ]
  },
  {
   "cell_type": "markdown",
   "id": "efda394e-6a40-4d78-884c-b6e4bce3be48",
   "metadata": {},
   "source": [
    "# 2.0 Import Data"
   ]
  },
  {
   "cell_type": "code",
   "execution_count": 5,
   "id": "e6df4657-02a2-4c23-80aa-bf915d6615bb",
   "metadata": {},
   "outputs": [],
   "source": [
    "# Define project folder path\n",
    "path = r'/Users/sharnti/Desktop/CareerFoundry/Data Immersion/Achievement 4/Instacart Basket Analysis'"
   ]
  },
  {
   "cell_type": "code",
   "execution_count": 6,
   "id": "2d82256f-b002-4bc3-b5be-60c0f3adf801",
   "metadata": {},
   "outputs": [],
   "source": [
    "# Import orders_products_combined dataframe\n",
    "ords_prods_merge= pd.read_pickle(os.path.join(path, '02 Data', 'Prepared Data', 'orders_products_merged_grouped.pkl'))"
   ]
  },
  {
   "cell_type": "code",
   "execution_count": 7,
   "id": "6a747b44-bdb6-438f-9973-3bc817a9923b",
   "metadata": {},
   "outputs": [
    {
     "data": {
      "text/plain": [
       "(32404859, 26)"
      ]
     },
     "execution_count": 7,
     "metadata": {},
     "output_type": "execute_result"
    }
   ],
   "source": [
    "# View rows, columns\n",
    "ords_prods_merge.shape"
   ]
  },
  {
   "cell_type": "code",
   "execution_count": 8,
   "id": "11a60d56-8434-4d02-899a-f3b7c3f057ee",
   "metadata": {},
   "outputs": [
    {
     "data": {
      "text/html": [
       "<div>\n",
       "<style scoped>\n",
       "    .dataframe tbody tr th:only-of-type {\n",
       "        vertical-align: middle;\n",
       "    }\n",
       "\n",
       "    .dataframe tbody tr th {\n",
       "        vertical-align: top;\n",
       "    }\n",
       "\n",
       "    .dataframe thead th {\n",
       "        text-align: right;\n",
       "    }\n",
       "</style>\n",
       "<table border=\"1\" class=\"dataframe\">\n",
       "  <thead>\n",
       "    <tr style=\"text-align: right;\">\n",
       "      <th></th>\n",
       "      <th>order_id</th>\n",
       "      <th>user_id</th>\n",
       "      <th>order_number</th>\n",
       "      <th>orders_day_of_week</th>\n",
       "      <th>order_hour_of_day</th>\n",
       "      <th>days_since_prior_order</th>\n",
       "      <th>first_order</th>\n",
       "      <th>product_id</th>\n",
       "      <th>add_to_cart_order</th>\n",
       "      <th>reordered</th>\n",
       "      <th>...</th>\n",
       "      <th>price_range_loc</th>\n",
       "      <th>busiest_day</th>\n",
       "      <th>busiest_days</th>\n",
       "      <th>busiest_period_of_day</th>\n",
       "      <th>max_order</th>\n",
       "      <th>loyalty_flag</th>\n",
       "      <th>avg_price</th>\n",
       "      <th>spender_flag</th>\n",
       "      <th>median_days_since_prior_order</th>\n",
       "      <th>frequency_flag</th>\n",
       "    </tr>\n",
       "  </thead>\n",
       "  <tbody>\n",
       "    <tr>\n",
       "      <th>0</th>\n",
       "      <td>2539329</td>\n",
       "      <td>1</td>\n",
       "      <td>1</td>\n",
       "      <td>2</td>\n",
       "      <td>8</td>\n",
       "      <td>NaN</td>\n",
       "      <td>True</td>\n",
       "      <td>196</td>\n",
       "      <td>1</td>\n",
       "      <td>0</td>\n",
       "      <td>...</td>\n",
       "      <td>Mid-range product</td>\n",
       "      <td>Regularly busy</td>\n",
       "      <td>Regularly busy days</td>\n",
       "      <td>Average orders</td>\n",
       "      <td>10</td>\n",
       "      <td>New customer</td>\n",
       "      <td>6.367797</td>\n",
       "      <td>Low spender</td>\n",
       "      <td>20.5</td>\n",
       "      <td>Non-frequent customer</td>\n",
       "    </tr>\n",
       "    <tr>\n",
       "      <th>1</th>\n",
       "      <td>2539329</td>\n",
       "      <td>1</td>\n",
       "      <td>1</td>\n",
       "      <td>2</td>\n",
       "      <td>8</td>\n",
       "      <td>NaN</td>\n",
       "      <td>True</td>\n",
       "      <td>14084</td>\n",
       "      <td>2</td>\n",
       "      <td>0</td>\n",
       "      <td>...</td>\n",
       "      <td>Mid-range product</td>\n",
       "      <td>Regularly busy</td>\n",
       "      <td>Regularly busy days</td>\n",
       "      <td>Average orders</td>\n",
       "      <td>10</td>\n",
       "      <td>New customer</td>\n",
       "      <td>6.367797</td>\n",
       "      <td>Low spender</td>\n",
       "      <td>20.5</td>\n",
       "      <td>Non-frequent customer</td>\n",
       "    </tr>\n",
       "    <tr>\n",
       "      <th>2</th>\n",
       "      <td>2539329</td>\n",
       "      <td>1</td>\n",
       "      <td>1</td>\n",
       "      <td>2</td>\n",
       "      <td>8</td>\n",
       "      <td>NaN</td>\n",
       "      <td>True</td>\n",
       "      <td>12427</td>\n",
       "      <td>3</td>\n",
       "      <td>0</td>\n",
       "      <td>...</td>\n",
       "      <td>Low-range product</td>\n",
       "      <td>Regularly busy</td>\n",
       "      <td>Regularly busy days</td>\n",
       "      <td>Average orders</td>\n",
       "      <td>10</td>\n",
       "      <td>New customer</td>\n",
       "      <td>6.367797</td>\n",
       "      <td>Low spender</td>\n",
       "      <td>20.5</td>\n",
       "      <td>Non-frequent customer</td>\n",
       "    </tr>\n",
       "    <tr>\n",
       "      <th>3</th>\n",
       "      <td>2539329</td>\n",
       "      <td>1</td>\n",
       "      <td>1</td>\n",
       "      <td>2</td>\n",
       "      <td>8</td>\n",
       "      <td>NaN</td>\n",
       "      <td>True</td>\n",
       "      <td>26088</td>\n",
       "      <td>4</td>\n",
       "      <td>0</td>\n",
       "      <td>...</td>\n",
       "      <td>Low-range product</td>\n",
       "      <td>Regularly busy</td>\n",
       "      <td>Regularly busy days</td>\n",
       "      <td>Average orders</td>\n",
       "      <td>10</td>\n",
       "      <td>New customer</td>\n",
       "      <td>6.367797</td>\n",
       "      <td>Low spender</td>\n",
       "      <td>20.5</td>\n",
       "      <td>Non-frequent customer</td>\n",
       "    </tr>\n",
       "    <tr>\n",
       "      <th>4</th>\n",
       "      <td>2539329</td>\n",
       "      <td>1</td>\n",
       "      <td>1</td>\n",
       "      <td>2</td>\n",
       "      <td>8</td>\n",
       "      <td>NaN</td>\n",
       "      <td>True</td>\n",
       "      <td>26405</td>\n",
       "      <td>5</td>\n",
       "      <td>0</td>\n",
       "      <td>...</td>\n",
       "      <td>Low-range product</td>\n",
       "      <td>Regularly busy</td>\n",
       "      <td>Regularly busy days</td>\n",
       "      <td>Average orders</td>\n",
       "      <td>10</td>\n",
       "      <td>New customer</td>\n",
       "      <td>6.367797</td>\n",
       "      <td>Low spender</td>\n",
       "      <td>20.5</td>\n",
       "      <td>Non-frequent customer</td>\n",
       "    </tr>\n",
       "  </tbody>\n",
       "</table>\n",
       "<p>5 rows × 26 columns</p>\n",
       "</div>"
      ],
      "text/plain": [
       "   order_id  user_id  order_number  orders_day_of_week  order_hour_of_day  \\\n",
       "0   2539329        1             1                   2                  8   \n",
       "1   2539329        1             1                   2                  8   \n",
       "2   2539329        1             1                   2                  8   \n",
       "3   2539329        1             1                   2                  8   \n",
       "4   2539329        1             1                   2                  8   \n",
       "\n",
       "   days_since_prior_order  first_order  product_id  add_to_cart_order  \\\n",
       "0                     NaN         True         196                  1   \n",
       "1                     NaN         True       14084                  2   \n",
       "2                     NaN         True       12427                  3   \n",
       "3                     NaN         True       26088                  4   \n",
       "4                     NaN         True       26405                  5   \n",
       "\n",
       "   reordered  ...    price_range_loc     busiest_day         busiest_days  \\\n",
       "0          0  ...  Mid-range product  Regularly busy  Regularly busy days   \n",
       "1          0  ...  Mid-range product  Regularly busy  Regularly busy days   \n",
       "2          0  ...  Low-range product  Regularly busy  Regularly busy days   \n",
       "3          0  ...  Low-range product  Regularly busy  Regularly busy days   \n",
       "4          0  ...  Low-range product  Regularly busy  Regularly busy days   \n",
       "\n",
       "   busiest_period_of_day  max_order  loyalty_flag avg_price spender_flag  \\\n",
       "0         Average orders         10  New customer  6.367797  Low spender   \n",
       "1         Average orders         10  New customer  6.367797  Low spender   \n",
       "2         Average orders         10  New customer  6.367797  Low spender   \n",
       "3         Average orders         10  New customer  6.367797  Low spender   \n",
       "4         Average orders         10  New customer  6.367797  Low spender   \n",
       "\n",
       "  median_days_since_prior_order         frequency_flag  \n",
       "0                          20.5  Non-frequent customer  \n",
       "1                          20.5  Non-frequent customer  \n",
       "2                          20.5  Non-frequent customer  \n",
       "3                          20.5  Non-frequent customer  \n",
       "4                          20.5  Non-frequent customer  \n",
       "\n",
       "[5 rows x 26 columns]"
      ]
     },
     "execution_count": 8,
     "metadata": {},
     "output_type": "execute_result"
    }
   ],
   "source": [
    "# View sample of import to check it worked\n",
    "ords_prods_merge.head()"
   ]
  },
  {
   "cell_type": "markdown",
   "id": "f393e50f-4fbe-4677-9efe-158769c38e02",
   "metadata": {},
   "source": [
    "# 3.0 Exercise"
   ]
  },
  {
   "cell_type": "markdown",
   "id": "12f7c01d-029a-4066-bdbe-4ac55cb31586",
   "metadata": {},
   "source": [
    "## 3.1 Creating bar charts"
   ]
  },
  {
   "cell_type": "code",
   "execution_count": 11,
   "id": "fb36e433-66fa-4105-bb64-09b152063e29",
   "metadata": {},
   "outputs": [
    {
     "data": {
      "text/plain": [
       "<Axes: xlabel='orders_day_of_week'>"
      ]
     },
     "execution_count": 11,
     "metadata": {},
     "output_type": "execute_result"
    },
    {
     "data": {
      "image/png": "[encoded data removed]",
      "text/plain": [
       "<Figure size 640x480 with 1 Axes>"
      ]
     },
     "metadata": {},
     "output_type": "display_data"
    }
   ],
   "source": [
    "# Create a bar chart\n",
    "ords_prods_merge['orders_day_of_week'].value_counts().plot.bar()"
   ]
  },
  {
   "cell_type": "code",
   "execution_count": 12,
   "id": "d39927c0-052c-416c-bc38-0c21a964d8b5",
   "metadata": {},
   "outputs": [
    {
     "data": {
      "text/plain": [
       "<Axes: xlabel='orders_day_of_week'>"
      ]
     },
     "execution_count": 12,
     "metadata": {},
     "output_type": "execute_result"
    },
    {
     "data": {
      "image/png": "[encoded data removed]",
      "text/plain": [
       "<Figure size 640x480 with 1 Axes>"
      ]
     },
     "metadata": {},
     "output_type": "display_data"
    }
   ],
   "source": [
    "# Create a bar chart with sort index\n",
    "ords_prods_merge['orders_day_of_week'].value_counts().sort_index().plot.bar()"
   ]
  },
  {
   "cell_type": "markdown",
   "id": "1a3b497c-72c7-4cf1-bfe3-98743d767c15",
   "metadata": {},
   "source": [
    "The sorting of your bar charts via an index can also be applied to frequencies."
   ]
  },
  {
   "cell_type": "code",
   "execution_count": 14,
   "id": "82a15aee-d256-4e87-942f-8282f742db09",
   "metadata": {},
   "outputs": [
    {
     "data": {
      "text/plain": [
       "orders_day_of_week\n",
       "0    6204182\n",
       "1    5660230\n",
       "6    4496490\n",
       "2    4213830\n",
       "5    4205791\n",
       "3    3840534\n",
       "4    3783802\n",
       "Name: count, dtype: int64"
      ]
     },
     "execution_count": 14,
     "metadata": {},
     "output_type": "execute_result"
    }
   ],
   "source": [
    "# Create a frequency table\n",
    "ords_prods_merge['orders_day_of_week'].value_counts()"
   ]
  },
  {
   "cell_type": "code",
   "execution_count": 15,
   "id": "7f49c16a-4466-4ed2-a4e6-13344846b21f",
   "metadata": {},
   "outputs": [
    {
     "data": {
      "text/plain": [
       "orders_day_of_week\n",
       "0    6204182\n",
       "1    5660230\n",
       "2    4213830\n",
       "3    3840534\n",
       "4    3783802\n",
       "5    4205791\n",
       "6    4496490\n",
       "Name: count, dtype: int64"
      ]
     },
     "execution_count": 15,
     "metadata": {},
     "output_type": "execute_result"
    }
   ],
   "source": [
    "# Create a frequency table WITH a sort index\n",
    "ords_prods_merge['orders_day_of_week'].value_counts().sort_index()"
   ]
  },
  {
   "cell_type": "markdown",
   "id": "326a09ee-5e63-4be2-8efe-df4bdd304021",
   "metadata": {},
   "source": [
    "Sorting by an index is useful when your data would be better understood in its original order. For example, for days of the week or months of the year."
   ]
  },
  {
   "cell_type": "code",
   "execution_count": 17,
   "id": "343af462-2a0a-46d2-a17e-9a56c1563edc",
   "metadata": {},
   "outputs": [
    {
     "data": {
      "text/plain": [
       "<Axes: xlabel='orders_day_of_week'>"
      ]
     },
     "execution_count": 17,
     "metadata": {},
     "output_type": "execute_result"
    },
    {
     "data": {
      "image/png": "[encoded data removed]",
      "text/plain": [
       "<Figure size 640x480 with 1 Axes>"
      ]
     },
     "metadata": {},
     "output_type": "display_data"
    }
   ],
   "source": [
    "# Create a bar chart with colours\n",
    "ords_prods_merge['orders_day_of_week'].value_counts().plot.bar(color = ['pink','red','orange','yellow','green','blue','purple'])"
   ]
  },
  {
   "cell_type": "markdown",
   "id": "2837b546-6b58-4a1c-b11c-916cc4632afb",
   "metadata": {},
   "source": [
    "## 3.2 Exporting Charts"
   ]
  },
  {
   "cell_type": "code",
   "execution_count": 19,
   "id": "d6b30292-01cb-4183-9f8a-6db63ad029ea",
   "metadata": {},
   "outputs": [
    {
     "data": {
      "image/png": "[encoded data removed]",
      "text/plain": [
       "<Figure size 640x480 with 1 Axes>"
      ]
     },
     "metadata": {},
     "output_type": "display_data"
    }
   ],
   "source": [
    "# Save the chart using 'bar' object.\n",
    "bar = ords_prods_merge['orders_day_of_week'].value_counts().plot.bar(color =['purple', 'red', 'pink', 'orange', 'yellow', 'green', 'blue'])"
   ]
  },
  {
   "cell_type": "markdown",
   "id": "fed41536-78bf-42d7-a3fa-3670cd207099",
   "metadata": {},
   "source": [
    "Now, your bar chart has been saved within the __bar__ object, and you’ll be able to access it any time you like by calling __bar.figure__. The next step is to export it outside of Jupyter in the form of an image file. This can be done via the __figure.savefig()__ function:"
   ]
  },
  {
   "cell_type": "code",
   "execution_count": 21,
   "id": "c033cf02-e629-4da7-9dde-4d7a745b7898",
   "metadata": {},
   "outputs": [],
   "source": [
    "# Export chart to project folder\n",
    "bar.figure.savefig(os.path.join(path, '04 Analysis','Visualizations', 'bar_orders_dow.png'))"
   ]
  },
  {
   "cell_type": "markdown",
   "id": "1e9da0a9-7992-419e-a340-3e3a45720a42",
   "metadata": {},
   "source": [
    "## 3.3 Creating Histograms and Scatterplots"
   ]
  },
  {
   "cell_type": "markdown",
   "id": "022efd2b-af80-472a-b9d8-0e9f994bf88d",
   "metadata": {},
   "source": [
    "Histograms are used to show the density of a continuous variable—the distribution of observations per their occurrence in a data set. This is different from bar charts as bar charts organize observations according to some category. That’s why bar charts are good for categorical data and histograms are more appropriate for continuous data."
   ]
  },
  {
   "cell_type": "code",
   "execution_count": 24,
   "id": "38e7fd7f-750d-401c-87ff-6fdf81ba5bd3",
   "metadata": {},
   "outputs": [
    {
     "data": {
      "text/plain": [
       "<Axes: ylabel='Frequency'>"
      ]
     },
     "execution_count": 24,
     "metadata": {},
     "output_type": "execute_result"
    },
    {
     "data": {
      "image/png": "[encoded data removed]",
      "text/plain": [
       "<Figure size 640x480 with 1 Axes>"
      ]
     },
     "metadata": {},
     "output_type": "display_data"
    }
   ],
   "source": [
    "# Create a histogram of the prices column\n",
    "ords_prods_merge['prices'].plot.hist(bins = 25)"
   ]
  },
  {
   "cell_type": "code",
   "execution_count": 25,
   "id": "f438ec56-17d0-405f-b915-eb1a1a407af7",
   "metadata": {},
   "outputs": [
    {
     "data": {
      "text/plain": [
       "<Axes: xlabel='prices', ylabel='prices'>"
      ]
     },
     "execution_count": 25,
     "metadata": {},
     "output_type": "execute_result"
    },
    {
     "data": {
      "image/png": "[encoded data removed]",
      "text/plain": [
       "<Figure size 640x480 with 1 Axes>"
      ]
     },
     "metadata": {},
     "output_type": "display_data"
    }
   ],
   "source": [
    "# Create a scatterplot\n",
    "sns.scatterplot(x = 'prices', y = 'prices',data = ords_prods_merge)"
   ]
  },
  {
   "cell_type": "code",
   "execution_count": 26,
   "id": "32c2265b-c025-41be-a788-04be4a0f5692",
   "metadata": {},
   "outputs": [
    {
     "data": {
      "text/html": [
       "<div>\n",
       "<style scoped>\n",
       "    .dataframe tbody tr th:only-of-type {\n",
       "        vertical-align: middle;\n",
       "    }\n",
       "\n",
       "    .dataframe tbody tr th {\n",
       "        vertical-align: top;\n",
       "    }\n",
       "\n",
       "    .dataframe thead th {\n",
       "        text-align: right;\n",
       "    }\n",
       "</style>\n",
       "<table border=\"1\" class=\"dataframe\">\n",
       "  <thead>\n",
       "    <tr style=\"text-align: right;\">\n",
       "      <th></th>\n",
       "      <th>order_id</th>\n",
       "      <th>user_id</th>\n",
       "      <th>order_number</th>\n",
       "      <th>orders_day_of_week</th>\n",
       "      <th>order_hour_of_day</th>\n",
       "      <th>days_since_prior_order</th>\n",
       "      <th>first_order</th>\n",
       "      <th>product_id</th>\n",
       "      <th>add_to_cart_order</th>\n",
       "      <th>reordered</th>\n",
       "      <th>...</th>\n",
       "      <th>price_range_loc</th>\n",
       "      <th>busiest_day</th>\n",
       "      <th>busiest_days</th>\n",
       "      <th>busiest_period_of_day</th>\n",
       "      <th>max_order</th>\n",
       "      <th>loyalty_flag</th>\n",
       "      <th>avg_price</th>\n",
       "      <th>spender_flag</th>\n",
       "      <th>median_days_since_prior_order</th>\n",
       "      <th>frequency_flag</th>\n",
       "    </tr>\n",
       "  </thead>\n",
       "  <tbody>\n",
       "    <tr>\n",
       "      <th>1576</th>\n",
       "      <td>912404</td>\n",
       "      <td>17</td>\n",
       "      <td>12</td>\n",
       "      <td>2</td>\n",
       "      <td>14</td>\n",
       "      <td>5.0</td>\n",
       "      <td>False</td>\n",
       "      <td>21553</td>\n",
       "      <td>5</td>\n",
       "      <td>0</td>\n",
       "      <td>...</td>\n",
       "      <td>High-range product</td>\n",
       "      <td>Regularly busy</td>\n",
       "      <td>Regularly busy days</td>\n",
       "      <td>Most orders</td>\n",
       "      <td>40</td>\n",
       "      <td>Regular customer</td>\n",
       "      <td>108.648299</td>\n",
       "      <td>High customer</td>\n",
       "      <td>5.0</td>\n",
       "      <td>Frequent customer</td>\n",
       "    </tr>\n",
       "    <tr>\n",
       "      <th>1638</th>\n",
       "      <td>603376</td>\n",
       "      <td>17</td>\n",
       "      <td>22</td>\n",
       "      <td>6</td>\n",
       "      <td>16</td>\n",
       "      <td>4.0</td>\n",
       "      <td>False</td>\n",
       "      <td>21553</td>\n",
       "      <td>3</td>\n",
       "      <td>1</td>\n",
       "      <td>...</td>\n",
       "      <td>High-range product</td>\n",
       "      <td>Regularly busy</td>\n",
       "      <td>Regularly busy days</td>\n",
       "      <td>Most orders</td>\n",
       "      <td>40</td>\n",
       "      <td>Regular customer</td>\n",
       "      <td>108.648299</td>\n",
       "      <td>High customer</td>\n",
       "      <td>5.0</td>\n",
       "      <td>Frequent customer</td>\n",
       "    </tr>\n",
       "    <tr>\n",
       "      <th>16522</th>\n",
       "      <td>3264360</td>\n",
       "      <td>135</td>\n",
       "      <td>2</td>\n",
       "      <td>2</td>\n",
       "      <td>21</td>\n",
       "      <td>13.0</td>\n",
       "      <td>False</td>\n",
       "      <td>21553</td>\n",
       "      <td>6</td>\n",
       "      <td>0</td>\n",
       "      <td>...</td>\n",
       "      <td>High-range product</td>\n",
       "      <td>Regularly busy</td>\n",
       "      <td>Regularly busy days</td>\n",
       "      <td>Average orders</td>\n",
       "      <td>4</td>\n",
       "      <td>New customer</td>\n",
       "      <td>1154.792308</td>\n",
       "      <td>High customer</td>\n",
       "      <td>12.0</td>\n",
       "      <td>Regular customer</td>\n",
       "    </tr>\n",
       "    <tr>\n",
       "      <th>16528</th>\n",
       "      <td>892534</td>\n",
       "      <td>135</td>\n",
       "      <td>3</td>\n",
       "      <td>0</td>\n",
       "      <td>8</td>\n",
       "      <td>12.0</td>\n",
       "      <td>False</td>\n",
       "      <td>21553</td>\n",
       "      <td>3</td>\n",
       "      <td>1</td>\n",
       "      <td>...</td>\n",
       "      <td>High-range product</td>\n",
       "      <td>Busiest day</td>\n",
       "      <td>Busiest days</td>\n",
       "      <td>Average orders</td>\n",
       "      <td>4</td>\n",
       "      <td>New customer</td>\n",
       "      <td>1154.792308</td>\n",
       "      <td>High customer</td>\n",
       "      <td>12.0</td>\n",
       "      <td>Regular customer</td>\n",
       "    </tr>\n",
       "    <tr>\n",
       "      <th>53672</th>\n",
       "      <td>229704</td>\n",
       "      <td>342</td>\n",
       "      <td>8</td>\n",
       "      <td>1</td>\n",
       "      <td>19</td>\n",
       "      <td>30.0</td>\n",
       "      <td>False</td>\n",
       "      <td>21553</td>\n",
       "      <td>9</td>\n",
       "      <td>0</td>\n",
       "      <td>...</td>\n",
       "      <td>High-range product</td>\n",
       "      <td>Regularly busy</td>\n",
       "      <td>Busiest days</td>\n",
       "      <td>Average orders</td>\n",
       "      <td>16</td>\n",
       "      <td>Regular customer</td>\n",
       "      <td>114.426619</td>\n",
       "      <td>High customer</td>\n",
       "      <td>23.0</td>\n",
       "      <td>Non-frequent customer</td>\n",
       "    </tr>\n",
       "    <tr>\n",
       "      <th>...</th>\n",
       "      <td>...</td>\n",
       "      <td>...</td>\n",
       "      <td>...</td>\n",
       "      <td>...</td>\n",
       "      <td>...</td>\n",
       "      <td>...</td>\n",
       "      <td>...</td>\n",
       "      <td>...</td>\n",
       "      <td>...</td>\n",
       "      <td>...</td>\n",
       "      <td>...</td>\n",
       "      <td>...</td>\n",
       "      <td>...</td>\n",
       "      <td>...</td>\n",
       "      <td>...</td>\n",
       "      <td>...</td>\n",
       "      <td>...</td>\n",
       "      <td>...</td>\n",
       "      <td>...</td>\n",
       "      <td>...</td>\n",
       "      <td>...</td>\n",
       "    </tr>\n",
       "    <tr>\n",
       "      <th>32320511</th>\n",
       "      <td>3172853</td>\n",
       "      <td>205650</td>\n",
       "      <td>18</td>\n",
       "      <td>1</td>\n",
       "      <td>9</td>\n",
       "      <td>7.0</td>\n",
       "      <td>False</td>\n",
       "      <td>21553</td>\n",
       "      <td>17</td>\n",
       "      <td>1</td>\n",
       "      <td>...</td>\n",
       "      <td>High-range product</td>\n",
       "      <td>Regularly busy</td>\n",
       "      <td>Busiest days</td>\n",
       "      <td>Most orders</td>\n",
       "      <td>25</td>\n",
       "      <td>Regular customer</td>\n",
       "      <td>351.141618</td>\n",
       "      <td>High customer</td>\n",
       "      <td>6.0</td>\n",
       "      <td>Frequent customer</td>\n",
       "    </tr>\n",
       "    <tr>\n",
       "      <th>32347717</th>\n",
       "      <td>2504315</td>\n",
       "      <td>205818</td>\n",
       "      <td>3</td>\n",
       "      <td>5</td>\n",
       "      <td>15</td>\n",
       "      <td>3.0</td>\n",
       "      <td>False</td>\n",
       "      <td>21553</td>\n",
       "      <td>13</td>\n",
       "      <td>0</td>\n",
       "      <td>...</td>\n",
       "      <td>High-range product</td>\n",
       "      <td>Regularly busy</td>\n",
       "      <td>Regularly busy days</td>\n",
       "      <td>Most orders</td>\n",
       "      <td>25</td>\n",
       "      <td>Regular customer</td>\n",
       "      <td>170.073770</td>\n",
       "      <td>High customer</td>\n",
       "      <td>13.0</td>\n",
       "      <td>Regular customer</td>\n",
       "    </tr>\n",
       "    <tr>\n",
       "      <th>32347727</th>\n",
       "      <td>1108388</td>\n",
       "      <td>205818</td>\n",
       "      <td>5</td>\n",
       "      <td>4</td>\n",
       "      <td>5</td>\n",
       "      <td>1.0</td>\n",
       "      <td>False</td>\n",
       "      <td>21553</td>\n",
       "      <td>5</td>\n",
       "      <td>1</td>\n",
       "      <td>...</td>\n",
       "      <td>High-range product</td>\n",
       "      <td>Least busy</td>\n",
       "      <td>Least busy days</td>\n",
       "      <td>Fewest orders</td>\n",
       "      <td>25</td>\n",
       "      <td>Regular customer</td>\n",
       "      <td>170.073770</td>\n",
       "      <td>High customer</td>\n",
       "      <td>13.0</td>\n",
       "      <td>Regular customer</td>\n",
       "    </tr>\n",
       "    <tr>\n",
       "      <th>32380527</th>\n",
       "      <td>1916142</td>\n",
       "      <td>206049</td>\n",
       "      <td>1</td>\n",
       "      <td>2</td>\n",
       "      <td>17</td>\n",
       "      <td>NaN</td>\n",
       "      <td>True</td>\n",
       "      <td>21553</td>\n",
       "      <td>2</td>\n",
       "      <td>0</td>\n",
       "      <td>...</td>\n",
       "      <td>High-range product</td>\n",
       "      <td>Regularly busy</td>\n",
       "      <td>Regularly busy days</td>\n",
       "      <td>Average orders</td>\n",
       "      <td>5</td>\n",
       "      <td>New customer</td>\n",
       "      <td>938.031250</td>\n",
       "      <td>High customer</td>\n",
       "      <td>7.0</td>\n",
       "      <td>Frequent customer</td>\n",
       "    </tr>\n",
       "    <tr>\n",
       "      <th>32380551</th>\n",
       "      <td>379732</td>\n",
       "      <td>206049</td>\n",
       "      <td>4</td>\n",
       "      <td>1</td>\n",
       "      <td>14</td>\n",
       "      <td>5.0</td>\n",
       "      <td>False</td>\n",
       "      <td>21553</td>\n",
       "      <td>4</td>\n",
       "      <td>1</td>\n",
       "      <td>...</td>\n",
       "      <td>High-range product</td>\n",
       "      <td>Regularly busy</td>\n",
       "      <td>Busiest days</td>\n",
       "      <td>Most orders</td>\n",
       "      <td>5</td>\n",
       "      <td>New customer</td>\n",
       "      <td>938.031250</td>\n",
       "      <td>High customer</td>\n",
       "      <td>7.0</td>\n",
       "      <td>Frequent customer</td>\n",
       "    </tr>\n",
       "  </tbody>\n",
       "</table>\n",
       "<p>5127 rows × 26 columns</p>\n",
       "</div>"
      ],
      "text/plain": [
       "          order_id  user_id  order_number  orders_day_of_week  \\\n",
       "1576        912404       17            12                   2   \n",
       "1638        603376       17            22                   6   \n",
       "16522      3264360      135             2                   2   \n",
       "16528       892534      135             3                   0   \n",
       "53672       229704      342             8                   1   \n",
       "...            ...      ...           ...                 ...   \n",
       "32320511   3172853   205650            18                   1   \n",
       "32347717   2504315   205818             3                   5   \n",
       "32347727   1108388   205818             5                   4   \n",
       "32380527   1916142   206049             1                   2   \n",
       "32380551    379732   206049             4                   1   \n",
       "\n",
       "          order_hour_of_day  days_since_prior_order  first_order  product_id  \\\n",
       "1576                     14                     5.0        False       21553   \n",
       "1638                     16                     4.0        False       21553   \n",
       "16522                    21                    13.0        False       21553   \n",
       "16528                     8                    12.0        False       21553   \n",
       "53672                    19                    30.0        False       21553   \n",
       "...                     ...                     ...          ...         ...   \n",
       "32320511                  9                     7.0        False       21553   \n",
       "32347717                 15                     3.0        False       21553   \n",
       "32347727                  5                     1.0        False       21553   \n",
       "32380527                 17                     NaN         True       21553   \n",
       "32380551                 14                     5.0        False       21553   \n",
       "\n",
       "          add_to_cart_order  reordered  ...     price_range_loc  \\\n",
       "1576                      5          0  ...  High-range product   \n",
       "1638                      3          1  ...  High-range product   \n",
       "16522                     6          0  ...  High-range product   \n",
       "16528                     3          1  ...  High-range product   \n",
       "53672                     9          0  ...  High-range product   \n",
       "...                     ...        ...  ...                 ...   \n",
       "32320511                 17          1  ...  High-range product   \n",
       "32347717                 13          0  ...  High-range product   \n",
       "32347727                  5          1  ...  High-range product   \n",
       "32380527                  2          0  ...  High-range product   \n",
       "32380551                  4          1  ...  High-range product   \n",
       "\n",
       "             busiest_day         busiest_days  busiest_period_of_day  \\\n",
       "1576      Regularly busy  Regularly busy days            Most orders   \n",
       "1638      Regularly busy  Regularly busy days            Most orders   \n",
       "16522     Regularly busy  Regularly busy days         Average orders   \n",
       "16528        Busiest day         Busiest days         Average orders   \n",
       "53672     Regularly busy         Busiest days         Average orders   \n",
       "...                  ...                  ...                    ...   \n",
       "32320511  Regularly busy         Busiest days            Most orders   \n",
       "32347717  Regularly busy  Regularly busy days            Most orders   \n",
       "32347727      Least busy      Least busy days          Fewest orders   \n",
       "32380527  Regularly busy  Regularly busy days         Average orders   \n",
       "32380551  Regularly busy         Busiest days            Most orders   \n",
       "\n",
       "          max_order      loyalty_flag    avg_price   spender_flag  \\\n",
       "1576             40  Regular customer   108.648299  High customer   \n",
       "1638             40  Regular customer   108.648299  High customer   \n",
       "16522             4      New customer  1154.792308  High customer   \n",
       "16528             4      New customer  1154.792308  High customer   \n",
       "53672            16  Regular customer   114.426619  High customer   \n",
       "...             ...               ...          ...            ...   \n",
       "32320511         25  Regular customer   351.141618  High customer   \n",
       "32347717         25  Regular customer   170.073770  High customer   \n",
       "32347727         25  Regular customer   170.073770  High customer   \n",
       "32380527          5      New customer   938.031250  High customer   \n",
       "32380551          5      New customer   938.031250  High customer   \n",
       "\n",
       "         median_days_since_prior_order         frequency_flag  \n",
       "1576                               5.0      Frequent customer  \n",
       "1638                               5.0      Frequent customer  \n",
       "16522                             12.0       Regular customer  \n",
       "16528                             12.0       Regular customer  \n",
       "53672                             23.0  Non-frequent customer  \n",
       "...                                ...                    ...  \n",
       "32320511                           6.0      Frequent customer  \n",
       "32347717                          13.0       Regular customer  \n",
       "32347727                          13.0       Regular customer  \n",
       "32380527                           7.0      Frequent customer  \n",
       "32380551                           7.0      Frequent customer  \n",
       "\n",
       "[5127 rows x 26 columns]"
      ]
     },
     "execution_count": 26,
     "metadata": {},
     "output_type": "execute_result"
    }
   ],
   "source": [
    "# Check for price outliers (where price is greater than 100).\n",
    "ords_prods_merge.loc[ords_prods_merge['prices'] > 100]"
   ]
  },
  {
   "cell_type": "code",
   "execution_count": 27,
   "id": "9d1b6716-49c0-4305-a4dc-e958f5bcfb93",
   "metadata": {},
   "outputs": [],
   "source": [
    "# Assign missing values to the above outliers\n",
    "ords_prods_merge.loc[ords_prods_merge['prices'] >100, 'prices'] = np.nan"
   ]
  },
  {
   "cell_type": "code",
   "execution_count": 28,
   "id": "ab0ec850-ad8d-4dd9-a64b-3a0e66ea0399",
   "metadata": {},
   "outputs": [
    {
     "data": {
      "text/plain": [
       "<Axes: ylabel='Frequency'>"
      ]
     },
     "execution_count": 28,
     "metadata": {},
     "output_type": "execute_result"
    },
    {
     "data": {
      "image/png": "[encoded data removed]",
      "text/plain": [
       "<Figure size 640x480 with 1 Axes>"
      ]
     },
     "metadata": {},
     "output_type": "display_data"
    }
   ],
   "source": [
    "# Create a histogram of the prices column\n",
    "ords_prods_merge['prices'].plot.hist(bins = 25)"
   ]
  },
  {
   "cell_type": "code",
   "execution_count": 29,
   "id": "8fa843ec-855b-4846-be4f-23c2d69b061a",
   "metadata": {},
   "outputs": [
    {
     "data": {
      "text/plain": [
       "<Axes: ylabel='Frequency'>"
      ]
     },
     "execution_count": 29,
     "metadata": {},
     "output_type": "execute_result"
    },
    {
     "data": {
      "image/png": "[encoded data removed]",
      "text/plain": [
       "<Figure size 640x480 with 1 Axes>"
      ]
     },
     "metadata": {},
     "output_type": "display_data"
    }
   ],
   "source": [
    "# Create a histogram of the prices column with increased granularity (i.e. more bins)\n",
    "ords_prods_merge['prices'].plot.hist(bins = 70)"
   ]
  },
  {
   "cell_type": "code",
   "execution_count": 30,
   "id": "1fffd87e-58aa-4ad8-aca7-e2a9131b8264",
   "metadata": {},
   "outputs": [
    {
     "data": {
      "image/png": "[encoded data removed]",
      "text/plain": [
       "<Figure size 640x480 with 1 Axes>"
      ]
     },
     "metadata": {},
     "output_type": "display_data"
    }
   ],
   "source": [
    "# Save as an object\n",
    "hist = ords_prods_merge['prices'].plot.hist(bins = 70)"
   ]
  },
  {
   "cell_type": "code",
   "execution_count": 31,
   "id": "117214c6-4a0f-4e9b-9e07-f01af7466be4",
   "metadata": {},
   "outputs": [],
   "source": [
    "# Export chart to project folder\n",
    "hist.figure.savefig(os.path.join(path, '04 Analysis','Visualizations', 'hist_prices_bins_70.png'))"
   ]
  },
  {
   "cell_type": "markdown",
   "id": "9b538f69-2727-42b3-97a9-e5906dafc258",
   "metadata": {},
   "source": [
    "## 3.3 Creating Line Charts"
   ]
  },
  {
   "cell_type": "markdown",
   "id": "c43646e3-5bc7-40cf-8382-d46c6d9c8406",
   "metadata": {},
   "source": [
    "Line charts are traditionally used to visualize the development of a characteristic over time. Since you don’t have dates that could indicate a timeline in your Instacart data, you won’t be able to test this out on your project just yet. You could, however, test out a different type of line chart, such as the development of the “prices” column across the days of the week. To achieve this, you’d plot the “orders_day_of_week” column on the x-axis and the “prices” column on the y-axis.\n",
    "\n",
    "There is, however, one major caveat: this line chart will require a great deal of computing power due to the number of unique values in the “prices” column. As such, you’re likely to get a memory error and/or have your browser crash (if you have a machine with less than 16GB RAM maybe keep in mind that attempting this will cost you time to reset and start over). To avoid this, you can use the subsetting method you should be familiar with by now. For example, you might consider only plotting the top or bottom 2,000,000 rows of your dataframe:\n",
    "\n",
    "__df = ords_prods_merge[:2000000]__\n",
    "\n",
    "But this doesn't work, as the sample is __not representative__ of the entire population. To tackle this problem, you will need to create a __sample__."
   ]
  },
  {
   "cell_type": "markdown",
   "id": "24fd5027-557f-4f28-9a45-2e8def6dc115",
   "metadata": {},
   "source": [
    "### 3.3.1 Sampling"
   ]
  },
  {
   "cell_type": "markdown",
   "id": "182644f7-b5f1-4b5b-83e3-533db3d07d92",
   "metadata": {},
   "source": [
    " A sample is a representative subsection of a population."
   ]
  },
  {
   "cell_type": "code",
   "execution_count": 65,
   "id": "fc3ea63b-eacd-4615-bfb9-42970841580b",
   "metadata": {},
   "outputs": [],
   "source": [
    "# Create a list holding True/False values to the test np.random.rand() <= 0.7\n",
    "np.random.seed(4)\n",
    "dev = np.random.rand(len(ords_prods_merge)) <= 0.7"
   ]
  },
  {
   "cell_type": "markdown",
   "id": "42794cd7-ca80-4506-861e-ca46ecc57e5d",
   "metadata": {},
   "source": [
    "1. Set the seed for the random number generator.\n",
    "2. Create 32,404,859 random numbers (the length of your ords_prods_merge dataframe) ranging between 0 and 1.\n",
    "3. Code a logical test comparing each of those numbers to a value of 0.7 (either less than or greater than 0.7).\n",
    "4. Store the results of the test in a new list, dev, in the form of boolean values (True and False)."
   ]
  },
  {
   "cell_type": "code",
   "execution_count": 68,
   "id": "a0a7aeae-7c3a-4882-9bfd-96b8b40e330e",
   "metadata": {},
   "outputs": [
    {
     "data": {
      "text/plain": [
       "array([False,  True, False, ...,  True,  True,  True])"
      ]
     },
     "execution_count": 68,
     "metadata": {},
     "output_type": "execute_result"
    }
   ],
   "source": [
    "dev"
   ]
  },
  {
   "cell_type": "code",
   "execution_count": 70,
   "id": "3421d556-54e5-4724-8499-6df2a819c7a8",
   "metadata": {},
   "outputs": [],
   "source": [
    "# Store 70% of the sample in the dataframe big\n",
    "big = ords_prods_merge[dev]"
   ]
  },
  {
   "cell_type": "code",
   "execution_count": 73,
   "id": "a00bd7de-63b1-4295-940b-6abac663026c",
   "metadata": {},
   "outputs": [],
   "source": [
    "# Store 30% of the sample in the dataframe small\n",
    "small = ords_prods_merge[~dev]"
   ]
  },
  {
   "cell_type": "markdown",
   "id": "69ed031d-3b03-4603-85b1-602cb6200b26",
   "metadata": {},
   "source": [
    "Let's check that both samples add up to the same number of rows as the original dataset to check that the above has worked."
   ]
  },
  {
   "cell_type": "code",
   "execution_count": 76,
   "id": "6d9815f3-4eca-400a-ade3-46364727c51d",
   "metadata": {},
   "outputs": [
    {
     "data": {
      "text/plain": [
       "32404859"
      ]
     },
     "execution_count": 76,
     "metadata": {},
     "output_type": "execute_result"
    }
   ],
   "source": [
    "# Check the length of the original dataframe\n",
    "len(ords_prods_merge)"
   ]
  },
  {
   "cell_type": "code",
   "execution_count": 80,
   "id": "48662570-09a4-4adb-b297-270b0e5962b5",
   "metadata": {},
   "outputs": [
    {
     "data": {
      "text/plain": [
       "32404859"
      ]
     },
     "execution_count": 80,
     "metadata": {},
     "output_type": "execute_result"
    }
   ],
   "source": [
    "# Check the length of the big sample and small sample combined\n",
    "len(small) + len(big)"
   ]
  },
  {
   "cell_type": "markdown",
   "id": "095a8b56-32d4-4a82-b516-e7fbce910fdb",
   "metadata": {},
   "source": [
    "This appears to have worked as they add up to the original dataframe."
   ]
  },
  {
   "cell_type": "code",
   "execution_count": 83,
   "id": "b8b5babf-bcd2-4945-b69c-b55383fef768",
   "metadata": {},
   "outputs": [],
   "source": [
    "# Reduce small dataframe to include only target columns\n",
    "df_2 = small[['orders_day_of_week','prices']]"
   ]
  },
  {
   "cell_type": "code",
   "execution_count": 85,
   "id": "efa11665-4d7a-42fb-9c5b-513da747f0b5",
   "metadata": {},
   "outputs": [
    {
     "data": {
      "image/png": "[encoded data removed]",
      "text/plain": [
       "<Figure size 640x480 with 1 Axes>"
      ]
     },
     "metadata": {},
     "output_type": "display_data"
    }
   ],
   "source": [
    "line = sns.lineplot(data = df_2, x = 'orders_day_of_week',y = 'prices')"
   ]
  },
  {
   "cell_type": "code",
   "execution_count": 88,
   "id": "a4e06b61-fddf-437c-af11-a21526e13b13",
   "metadata": {},
   "outputs": [],
   "source": [
    "# Export chart to project folder\n",
    "line.figure.savefig(os.path.join(path, '04 Analysis','Visualizations', 'line.png'))"
   ]
  },
  {
   "cell_type": "code",
   "execution_count": null,
   "id": "931a3221-cb79-4adf-b67c-4019183287a2",
   "metadata": {},
   "outputs": [],
   "source": []
  }
 ],
 "metadata": {
  "kernelspec": {
   "display_name": "Python [conda env:base] *",
   "language": "python",
   "name": "conda-base-py"
  },
  "language_info": {
   "codemirror_mode": {
    "name": "ipython",
    "version": 3
   },
   "file_extension": ".py",
   "mimetype": "text/x-python",
   "name": "python",
   "nbconvert_exporter": "python",
   "pygments_lexer": "ipython3",
   "version": "3.12.7"
  }
 },
 "nbformat": 4,
 "nbformat_minor": 5
}
