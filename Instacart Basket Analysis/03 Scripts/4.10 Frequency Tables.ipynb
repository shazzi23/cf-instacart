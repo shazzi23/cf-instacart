{
 "cells": [
  {
   "cell_type": "markdown",
   "id": "b8ffaf42-e1b2-4166-9cca-555f2535f33b",
   "metadata": {},
   "source": [
    "### 1.0 Import libraries"
   ]
  },
  {
   "cell_type": "code",
   "execution_count": 3,
   "id": "a0f62e11-313c-4720-845f-055666e4c774",
   "metadata": {},
   "outputs": [],
   "source": [
    "import pandas as pd\n",
    "import numpy as np\n",
    "import os\n",
    "import matplotlib.pyplot as plt\n",
    "import seaborn as sns\n",
    "import scipy"
   ]
  },
  {
   "cell_type": "markdown",
   "id": "26b2dfad-c22f-4d22-890e-8089e2862498",
   "metadata": {},
   "source": [
    "### 2.0 Import data"
   ]
  },
  {
   "cell_type": "code",
   "execution_count": 8,
   "id": "6b478abb-1da9-468f-be74-279db1508c04",
   "metadata": {},
   "outputs": [],
   "source": [
    "# Define project folder path\n",
    "path = r'/Users/sharnti/Desktop/CareerFoundry/Data Immersion/Achievement 4/Instacart Basket Analysis'"
   ]
  },
  {
   "cell_type": "code",
   "execution_count": 12,
   "id": "0ebf78d9-3b53-41c4-9dd5-688a75ef893b",
   "metadata": {},
   "outputs": [],
   "source": [
    "df = pd.read_pickle(os.path.join(path, '02 Data','Prepared Data', 'anon_custs_ords_prods_depts_combined.pkl'))"
   ]
  },
  {
   "cell_type": "markdown",
   "id": "0578bbd5-57b6-4110-8263-c5cb90064b92",
   "metadata": {},
   "source": [
    "### 3.0 Frequency tables"
   ]
  },
  {
   "cell_type": "code",
   "execution_count": 17,
   "id": "069d651e-456b-404f-82cc-617a5950ffab",
   "metadata": {},
   "outputs": [
    {
     "data": {
      "text/plain": [
       "first_order\n",
       "False    29303281\n",
       "True      1661283\n",
       "Name: count, dtype: int64"
      ]
     },
     "execution_count": 17,
     "metadata": {},
     "output_type": "execute_result"
    }
   ],
   "source": [
    "# Frequency table for first_order\n",
    "df['first_order'].value_counts(dropna = False)"
   ]
  },
  {
   "cell_type": "code",
   "execution_count": 19,
   "id": "c813f4d3-4a16-4eec-a9db-0ff85331584b",
   "metadata": {},
   "outputs": [
    {
     "data": {
      "text/plain": [
       "price_range_loc\n",
       "Mid-range product     20891771\n",
       "Low-range product      9674840\n",
       "High-range product      397953\n",
       "Name: count, dtype: int64"
      ]
     },
     "execution_count": 19,
     "metadata": {},
     "output_type": "execute_result"
    }
   ],
   "source": [
    "# Frequency table for price_range_loc\n",
    "df['price_range_loc'].value_counts(dropna = False)"
   ]
  },
  {
   "cell_type": "code",
   "execution_count": 21,
   "id": "aafbedf6-ff02-4907-979d-8b74c590717a",
   "metadata": {},
   "outputs": [
    {
     "data": {
      "text/plain": [
       "busiest_day\n",
       "Regularly busy    21430960\n",
       "Busiest day        5908610\n",
       "Least busy         3624994\n",
       "Name: count, dtype: int64"
      ]
     },
     "execution_count": 21,
     "metadata": {},
     "output_type": "execute_result"
    }
   ],
   "source": [
    "# Frequency table for busiest_day\n",
    "df['busiest_day'].value_counts(dropna = False)"
   ]
  },
  {
   "cell_type": "code",
   "execution_count": 23,
   "id": "f763a798-765a-42b3-91a0-a0d89dc914fa",
   "metadata": {},
   "outputs": [
    {
     "data": {
      "text/plain": [
       "busiest_days\n",
       "Regularly busy days    12349739\n",
       "Busiest days           11320296\n",
       "Least busy days         7294529\n",
       "Name: count, dtype: int64"
      ]
     },
     "execution_count": 23,
     "metadata": {},
     "output_type": "execute_result"
    }
   ],
   "source": [
    "# Frequency table for busiest_days\n",
    "df['busiest_days'].value_counts(dropna = False)"
   ]
  },
  {
   "cell_type": "code",
   "execution_count": 25,
   "id": "c059ce0f-b3d1-4ac5-9cf4-82ed74769a15",
   "metadata": {},
   "outputs": [
    {
     "data": {
      "text/plain": [
       "busiest_period_of_day\n",
       "Most orders       20180856\n",
       "Average orders     9550810\n",
       "Fewest orders      1232898\n",
       "Name: count, dtype: int64"
      ]
     },
     "execution_count": 25,
     "metadata": {},
     "output_type": "execute_result"
    }
   ],
   "source": [
    "# Frequency table for busiest_period_of_day\n",
    "df['busiest_period_of_day'].value_counts(dropna = False)"
   ]
  },
  {
   "cell_type": "code",
   "execution_count": 27,
   "id": "f404f144-8f17-4bdb-8d80-abfaf9d324f4",
   "metadata": {},
   "outputs": [
    {
     "data": {
      "text/plain": [
       "loyalty_flag\n",
       "Regular customer    15876776\n",
       "Loyal customer      10284093\n",
       "New customer         4803695\n",
       "Name: count, dtype: int64"
      ]
     },
     "execution_count": 27,
     "metadata": {},
     "output_type": "execute_result"
    }
   ],
   "source": [
    "# Frequency table for loyalty_flag\n",
    "df['loyalty_flag'].value_counts(dropna = False)"
   ]
  },
  {
   "cell_type": "code",
   "execution_count": 29,
   "id": "ebb808a8-0a36-45f4-87b3-9b1590cd73a1",
   "metadata": {},
   "outputs": [
    {
     "data": {
      "text/plain": [
       "spender_flag\n",
       "Low spender      30361139\n",
       "High customer      603425\n",
       "Name: count, dtype: int64"
      ]
     },
     "execution_count": 29,
     "metadata": {},
     "output_type": "execute_result"
    }
   ],
   "source": [
    "# Frequency table for spender_flag\n",
    "df['spender_flag'].value_counts(dropna = False)"
   ]
  },
  {
   "cell_type": "code",
   "execution_count": 31,
   "id": "531b4c86-026a-421e-8820-8273d6280e82",
   "metadata": {},
   "outputs": [
    {
     "data": {
      "text/plain": [
       "frequency_flag\n",
       "Frequent customer        21204476\n",
       "Regular customer          6865113\n",
       "Non-frequent customer     2894975\n",
       "Name: count, dtype: int64"
      ]
     },
     "execution_count": 31,
     "metadata": {},
     "output_type": "execute_result"
    }
   ],
   "source": [
    "# Frequency table for frequency_flag\n",
    "df['frequency_flag'].value_counts(dropna = False)"
   ]
  },
  {
   "cell_type": "code",
   "execution_count": 33,
   "id": "904eb013-7149-4e17-8466-1b5dc621374c",
   "metadata": {},
   "outputs": [
    {
     "data": {
      "text/plain": [
       "region\n",
       "South        10311139\n",
       "West          7927227\n",
       "Midwest       7261513\n",
       "Northeast     5464685\n",
       "Name: count, dtype: int64"
      ]
     },
     "execution_count": 33,
     "metadata": {},
     "output_type": "execute_result"
    }
   ],
   "source": [
    "# Frequency table for region\n",
    "df['region'].value_counts(dropna = False)"
   ]
  },
  {
   "cell_type": "code",
   "execution_count": 35,
   "id": "bc217f45-767a-4df5-9beb-42adb9b8a99b",
   "metadata": {},
   "outputs": [
    {
     "data": {
      "text/plain": [
       "order_activity\n",
       "Normal Activity    30964564\n",
       "Name: count, dtype: int64"
      ]
     },
     "execution_count": 35,
     "metadata": {},
     "output_type": "execute_result"
    }
   ],
   "source": [
    "# Frequency table for order_activity\n",
    "df['order_activity'].value_counts(dropna = False)"
   ]
  },
  {
   "cell_type": "code",
   "execution_count": 37,
   "id": "9d095cc2-30d6-411e-9838-cfbb688f1e3c",
   "metadata": {},
   "outputs": [
    {
     "data": {
      "text/plain": [
       "income_group\n",
       "Low-Middle      14058243\n",
       "Upper-Middle    13731499\n",
       "Low              2906878\n",
       "High              267944\n",
       "Name: count, dtype: int64"
      ]
     },
     "execution_count": 37,
     "metadata": {},
     "output_type": "execute_result"
    }
   ],
   "source": [
    "# Frequency table for income_group\n",
    "df['income_group'].value_counts(dropna = False)"
   ]
  },
  {
   "cell_type": "code",
   "execution_count": 39,
   "id": "7714e087-4266-48d1-a361-438025a6555a",
   "metadata": {},
   "outputs": [
    {
     "data": {
      "text/plain": [
       "parent_flag\n",
       "Parent          23224883\n",
       "Not a Parent     7739681\n",
       "Name: count, dtype: int64"
      ]
     },
     "execution_count": 39,
     "metadata": {},
     "output_type": "execute_result"
    }
   ],
   "source": [
    "# Frequency table for parent_flag\n",
    "df['parent_flag'].value_counts(dropna = False)"
   ]
  },
  {
   "cell_type": "code",
   "execution_count": 41,
   "id": "33274888-5e7d-4636-86be-8b507bbf77d5",
   "metadata": {},
   "outputs": [
    {
     "data": {
      "text/plain": [
       "parent_age_group\n",
       "Not a Parent          7739681\n",
       "Middle-Aged Parent    7238740\n",
       "Adult Parent          7222873\n",
       "Senior Parent         6173586\n",
       "Young Parent          2589684\n",
       "Name: count, dtype: int64"
      ]
     },
     "execution_count": 41,
     "metadata": {},
     "output_type": "execute_result"
    }
   ],
   "source": [
    "# Frequency table for parent_age_group\n",
    "df['parent_age_group'].value_counts(dropna = False)"
   ]
  },
  {
   "cell_type": "code",
   "execution_count": 43,
   "id": "1b03c904-183e-48aa-8d50-150ac681bd64",
   "metadata": {},
   "outputs": [
    {
     "data": {
      "text/plain": [
       "age_group\n",
       "Middle-Aged    9690051\n",
       "Adult          9663775\n",
       "Senior         8195544\n",
       "Young Adult    3415194\n",
       "Name: count, dtype: int64"
      ]
     },
     "execution_count": 43,
     "metadata": {},
     "output_type": "execute_result"
    }
   ],
   "source": [
    "# Frequency table for age_group\n",
    "df['age_group'].value_counts(dropna = False)"
   ]
  },
  {
   "cell_type": "code",
   "execution_count": null,
   "id": "8c72d734-1dc5-42b7-849a-9a264ce884ed",
   "metadata": {},
   "outputs": [],
   "source": []
  }
 ],
 "metadata": {
  "kernelspec": {
   "display_name": "Python [conda env:base] *",
   "language": "python",
   "name": "conda-base-py"
  },
  "language_info": {
   "codemirror_mode": {
    "name": "ipython",
    "version": 3
   },
   "file_extension": ".py",
   "mimetype": "text/x-python",
   "name": "python",
   "nbconvert_exporter": "python",
   "pygments_lexer": "ipython3",
   "version": "3.12.7"
  }
 },
 "nbformat": 4,
 "nbformat_minor": 5
}
